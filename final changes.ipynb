{
 "cells": [
  {
   "cell_type": "code",
   "execution_count": 2,
   "id": "4d50ab3b",
   "metadata": {},
   "outputs": [],
   "source": [
    "from unicodedata import numeric\n",
    "import pandas\n",
    "from collections import Counter\n",
    "\n",
    "numerical_variables = []\n",
    "categorical_variables = []\n",
    "with open('/Downloads/employee_attrition.csv','r',encoding='utf-8-sig') as f:\n",
    "    lines = f.readlines()\n",
    "    header = lines[0].split(',')\n",
    "    values = lines[1].split(',')\n",
    "\n",
    "count = 0\n",
    "for column in values:\n",
    "    if(column.strip().isdigit()):\n",
    "        numerical_variables.append(header[count].strip())\n",
    "    else:\n",
    "        categorical_variables.append(header[count].strip())\n",
    "    count += 1\n",
    "\n",
    "f.close()\n",
    "\n"
   ]
  },
  {
   "cell_type": "code",
   "execution_count": 3,
   "id": "ffd678aa",
   "metadata": {},
   "outputs": [],
   "source": [
    "if('Attrition' in numerical_variables):\n",
    "    numerical_variables.remove('Attrition')\n",
    "if('Attrition' in categorical_variables):\n",
    "     categorical_variables.remove('Attrition')\n",
    "\n",
    "df = pandas.read_csv('/Downloads/employee_attrition.csv')\n",
    "\n",
    "zero_variance_numerical_variables = []\n",
    "for column in numerical_variables:\n",
    "    if(df[column].std() == 0.0):\n",
    "        zero_variance_numerical_variables.append(column)\n",
    "\n",
    "zero_variance_categorical_variables = []\n",
    "high_cardinality_categorical_variables = []\n",
    "for column in categorical_variables:\n",
    "    if(len(df[column].unique()) == 1):\n",
    "         zero_variance_categorical_variables.append(column)\n",
    "\n",
    "    elif(len(df[column].unique()) >= 200):\n",
    "        high_cardinality_categorical_variables.append(column)\n",
    "\n",
    "df.drop(zero_variance_categorical_variables,axis='columns',inplace=True)\n",
    "df.drop(zero_variance_numerical_variables,axis='columns',inplace=True)\n",
    "df.drop(high_cardinality_categorical_variables,axis='columns',inplace=True)\n",
    "\n",
    "for column in zero_variance_numerical_variables:\n",
    "    numerical_variables.remove(column)\n",
    "\n",
    "for column in zero_variance_categorical_variables:\n",
    "     categorical_variables.remove(column)\n",
    "\n",
    "for column in numerical_variables:\n",
    "     mean = df[column].mean()\n",
    "     variance = df[column].std(ddof=0)\n",
    "     df[column] = (df[column] - mean)/variance\n",
    "\n",
    "df = pandas.get_dummies(df, prefix_sep='_', drop_first=False,columns=categorical_variables)\n",
    "\n",
    "cleanup_nums = {\"Attrition\": {\"Yes\": 1, \"No\": 0}}\n",
    "df = df.replace(cleanup_nums)\n",
    "df_class_0 = df[df['Attrition'] == 0]\n",
    "df_class_1 = df[df['Attrition'] == 1]"
   ]
  },
  {
   "cell_type": "code",
   "execution_count": 4,
   "id": "e22f3aa4",
   "metadata": {},
   "outputs": [],
   "source": [
    "count_class_0, count_class_1 = df['Attrition'].value_counts()\n",
    "df_class_1_over = df_class_1.sample(count_class_0, replace=True)\n",
    "df_test_over = pandas.concat([df_class_0, df_class_1_over], axis=0)\n",
    "X = df_test_over.loc[:, df_test_over.columns != 'Attrition']\n",
    "y = df_test_over.loc[:, df_test_over.columns == 'Attrition']\n",
    "\n",
    "\n",
    "from sklearn.model_selection import train_test_split\n",
    "from collections import Counter\n",
    "X_train, X_test, y_train, y_test = train_test_split(X, y, test_size=0.3, random_state=100)"
   ]
  },
  {
   "cell_type": "code",
   "execution_count": 12,
   "id": "19fbacc6",
   "metadata": {},
   "outputs": [],
   "source": [
    "from sklearn.metrics import accuracy_score\n",
    "from sklearn.ensemble import RandomForestClassifier\n",
    "rm=RandomForestClassifier(n_estimators = 100,random_state=0)\n",
    "rm.fit(X_train,y_train.values.ravel())\n",
    "y_pred_rm=rm.predict(X_test)\n",
    "accuracy_rm=accuracy_score(y_test.values.ravel(),y_pred_rm)"
   ]
  },
  {
   "cell_type": "code",
   "execution_count": 13,
   "id": "717abc3c",
   "metadata": {},
   "outputs": [
    {
     "data": {
      "text/plain": [
       "0.9648648648648649"
      ]
     },
     "execution_count": 13,
     "metadata": {},
     "output_type": "execute_result"
    }
   ],
   "source": [
    "accuracy_rm"
   ]
  },
  {
   "cell_type": "code",
   "execution_count": null,
   "id": "912f3dca",
   "metadata": {},
   "outputs": [],
   "source": []
  },
  {
   "cell_type": "code",
   "execution_count": null,
   "id": "ba046863",
   "metadata": {},
   "outputs": [],
   "source": []
  },
  {
   "cell_type": "code",
   "execution_count": null,
   "id": "07d08456",
   "metadata": {},
   "outputs": [],
   "source": []
  }
 ],
 "metadata": {
  "kernelspec": {
   "display_name": "Python 3",
   "language": "python",
   "name": "python3"
  },
  "language_info": {
   "codemirror_mode": {
    "name": "ipython",
    "version": 3
   },
   "file_extension": ".py",
   "mimetype": "text/x-python",
   "name": "python",
   "nbconvert_exporter": "python",
   "pygments_lexer": "ipython3",
   "version": "3.8.8"
  }
 },
 "nbformat": 4,
 "nbformat_minor": 5
}
